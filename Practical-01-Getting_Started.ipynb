{
    "cells":[
    {
    "cell_type":"markdown",
    "metadata":{},
    "source":[
    "<div style=\"float:left\">\n",
    "<h1 style=\"width:450px\">Practical 1: Getting Started</hl>\n"
    "<h2 stylem\"width:450px\">Getting to grips with Jupyter, Git and Markdown</h2>\n",
    "</div>\n",
    "<div style=\"float:right\"><img width=\"100\" src=\"https://github.com/jreades/i2p/raw/master/img/casa_logo.jpg\" /></div>"
]
},
{
    "cell_type":"markdown",
    "metadata":{},
    "source": [
    "## Welcome!\n",