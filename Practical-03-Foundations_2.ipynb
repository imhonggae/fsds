{
 "cells": [
  {
   "cell_type": "markdown",
   "id": "52979926-6be7-44e9-a3cf-245cc0e18651",
   "metadata": {},
   "source": [
    "# Task 1.1 List Refresher"
   ]
  },
  {
   "cell_type": "code",
   "execution_count": 1,
   "id": "f58ca5be-0f92-4c71-9464-a33575b73cad",
   "metadata": {},
   "outputs": [],
   "source": [
    "cities = [\"Bristol\", \"London\", \"Manchester\", \"Edinburgh\", \"Belfast\", \"York\"]"
   ]
  },
  {
   "cell_type": "markdown",
   "id": "820542f6-322f-40a6-a369-332e358e0da8",
   "metadata": {},
   "source": [
    "## Replace the ?? so that it prints the index for Manchester in the list."
   ]
  },
  {
   "cell_type": "code",
   "execution_count": 6,
   "id": "8adc9e50-5fed-49ea-82d4-50f9970d5e44",
   "metadata": {},
   "outputs": [
    {
     "name": "stdout",
     "output_type": "stream",
     "text": [
      "The position of Manchester in the list is: 2\n"
     ]
    }
   ],
   "source": [
    "print(\"The position of Manchester in the list is: \" + str( cities.index(\"Manchester\") ))"
   ]
  },
  {
   "cell_type": "markdown",
   "id": "4eb219c4-3de1-456e-abfb-4a2a1cc0628d",
   "metadata": {},
   "source": [
    "## Replace the ?? so that it prints Belfast."
   ]
  },
  {
   "cell_type": "code",
   "execution_count": 7,
   "id": "ce7642c1-081d-4f76-ab0b-2326b8476a36",
   "metadata": {},
   "outputs": [
    {
     "name": "stdout",
     "output_type": "stream",
     "text": [
      "Belfast\n"
     ]
    }
   ],
   "source": [
    "print(cities[2 + 2])"
   ]
  },
  {
   "cell_type": "markdown",
   "id": "f6349f81-5f7b-4efe-ac77-60f7cd79f41a",
   "metadata": {},
   "source": [
    "## Use a negative index to print Belfast"
   ]
  },
  {
   "cell_type": "code",
   "execution_count": 8,
   "id": "291702dc-37b9-44b0-9b3a-6a9cc4a0511d",
   "metadata": {},
   "outputs": [
    {
     "name": "stdout",
     "output_type": "stream",
     "text": [
      "Belfast\n"
     ]
    }
   ],
   "source": [
    "print(cities[4])"
   ]
  },
  {
   "cell_type": "markdown",
   "id": "c54552e1-9460-415f-9aa2-3c4d886927d0",
   "metadata": {},
   "source": [
    "# Task 1.2 Looking Across Lists"
   ]
  },
  {
   "cell_type": "code",
   "execution_count": 10,
   "id": "f0809cb1-0495-4eae-901f-97b47fa21123",
   "metadata": {},
   "outputs": [],
   "source": [
    "temperatures = [15.6, 16.5, 13.4, 14.0, 15.2, 14.8]"
   ]
  },
  {
   "cell_type": "markdown",
   "id": "b414abe0-bf52-467c-a48a-924bc69996de",
   "metadata": {},
   "source": [
    "## Given what you know about cities and temperatures, how do you print:\r",
    "##                      \r\n",
    "\"The average temperature in Manchester is 13.4 degrees.\""
   ]
  },
  {
   "cell_type": "code",
   "execution_count": 11,
   "id": "1d58ac97-2373-49e5-9e87-0fee126ead3d",
   "metadata": {},
   "outputs": [
    {
     "name": "stdout",
     "output_type": "stream",
     "text": [
      "The average temperature in Manchester is 13.4\n",
      "The average temperature in Manchester is 13.4\n"
     ]
    }
   ],
   "source": [
    "city=\"Manchester\" # Use this to get the solution...\n",
    "\n",
    "# This way is perfectly fine\n",
    "print(\"The average temperature in \" + city + \" is \" + str(temperatures[cities.index(city)]))\n",
    "\n",
    "# This way is more Python 3 and a bit easier to read\n",
    "print(f\"The average temperature in {city} is {str(temperatures[cities.index(city)])}\")"
   ]
  },
  {
   "cell_type": "markdown",
   "id": "3f306b2d-9a4a-4627-971f-76de547f2a5c",
   "metadata": {},
   "source": [
    "## You'll know that you got the 'right' answer to the question above if you can copy+paste your code and change only one thing in order to print out: \"The average temperature in Belfast is 15.2 degrees\""
   ]
  },
  {
   "cell_type": "code",
   "execution_count": 12,
   "id": "98150eb8-1415-4222-8b31-ac51dbc63b85",
   "metadata": {},
   "outputs": [
    {
     "name": "stdout",
     "output_type": "stream",
     "text": [
      "The average temperature in Belfast is 15.2\n"
     ]
    }
   ],
   "source": [
    "city=\"Belfast\"\n",
    "print(f\"The average temperature in {city} is {str(temperatures[cities.index(city)])}\")"
   ]
  },
  {
   "cell_type": "markdown",
   "id": "2a4590d8-e1c3-41ef-84d1-286bb6f9a9d2",
   "metadata": {},
   "source": [
    "## Can you convert this to a simple function called avg_tmp with two inputs and then use this to print the average temperature for Edinburgh?"
   ]
  },
  {
   "cell_type": "code",
   "execution_count": 13,
   "id": "d488187d-88ad-4bd5-8187-18e8dfaebe75",
   "metadata": {},
   "outputs": [
    {
     "name": "stdout",
     "output_type": "stream",
     "text": [
      "The average temperature in Edinburgh is 14.0\n"
     ]
    }
   ],
   "source": [
    "def avg_tmp(city, temp):\n",
    "    print(f\"The average temperature in {city} is {temp}\")\n",
    "\n",
    "city=\"Edinburgh\"\n",
    "avg_tmp(city, str(temperatures[cities.index(city)]))"
   ]
  },
  {
   "cell_type": "markdown",
   "id": "1b833b2c-a243-4ce4-9ea4-efda779095be",
   "metadata": {},
   "source": [
    "## Now use a for loop over the cities to print out the average temperature in each city using the function that we just created:"
   ]
  },
  {
   "cell_type": "code",
   "execution_count": 16,
   "id": "2058bb56-7141-412b-8390-b2f0f194a20c",
   "metadata": {},
   "outputs": [
    {
     "name": "stdout",
     "output_type": "stream",
     "text": [
      "The average temperature in Bristol is 15.6\n",
      "The average temperature in London is 16.5\n",
      "The average temperature in Manchester is 13.4\n",
      "The average temperature in Edinburgh is 14.0\n",
      "The average temperature in Belfast is 15.2\n",
      "The average temperature in York is 14.8\n"
     ]
    }
   ],
   "source": [
    "for c in cities:\n",
    "    avg_tmp(c, str(temperatures[cities.index(c)]))"
   ]
  },
  {
   "cell_type": "markdown",
   "id": "2c8e2ebb-2104-4c5b-8a13-332eb5135c0f",
   "metadata": {},
   "source": [
    "# Task 2.1 Creating an Atlas"
   ]
  },
  {
   "cell_type": "code",
   "execution_count": 17,
   "id": "7724e93a-bcb7-451f-8467-bbce8c3f8e6b",
   "metadata": {},
   "outputs": [],
   "source": [
    "cities = {\n",
    "    'San Francisco': [37.77, -122.43, 'SFO'],\n",
    "    'London': [51.51, -0.08, 'LDN'],\n",
    "    'Paris': [48.86,2.29, 'PAR'],\n",
    "    'Beijing': [39.92,116.40 ,'BEI'],\n",
    "}"
   ]
  },
  {
   "cell_type": "markdown",
   "id": "e71c1376-6090-4177-bac3-7b232189d010",
   "metadata": {},
   "source": [
    "## Add a record to the dictionary for Chennai (data here)"
   ]
  },
  {
   "cell_type": "code",
   "execution_count": 20,
   "id": "f7309af7-f780-44c1-9fa3-e67647247817",
   "metadata": {},
   "outputs": [],
   "source": [
    "cities['Chennai'] = [13.08, 80.27, 'Che']"
   ]
  },
  {
   "cell_type": "markdown",
   "id": "53ba548e-d8db-4f70-9cbf-1f77cd74bfb0",
   "metadata": {},
   "source": [
    "## In one line of code, print out the airport code for Chennai (MAA):"
   ]
  },
  {
   "cell_type": "code",
   "execution_count": 25,
   "id": "5aaa21ec-3a28-47ec-8f66-383ceb2db45b",
   "metadata": {},
   "outputs": [
    {
     "name": "stdout",
     "output_type": "stream",
     "text": [
      "Chennai(Che)\n"
     ]
    }
   ],
   "source": [
    "print(f\"Chennai({cities['Chennai'][2]})\")"
   ]
  },
  {
   "cell_type": "markdown",
   "id": "ebfe22cb-4b8a-4cf3-85b0-12e140585944",
   "metadata": {},
   "source": [
    "## Check you understand the difference between the following two blocks of code by running them."
   ]
  },
  {
   "cell_type": "code",
   "execution_count": 26,
   "id": "6a35eff2-86f4-43ad-83f1-d1372c351820",
   "metadata": {},
   "outputs": [
    {
     "ename": "KeyError",
     "evalue": "'Berlin'",
     "output_type": "error",
     "traceback": [
      "\u001b[0;31m---------------------------------------------------------------------------\u001b[0m",
      "\u001b[0;31mKeyError\u001b[0m                                  Traceback (most recent call last)",
      "Cell \u001b[0;32mIn[26], line 1\u001b[0m\n\u001b[0;32m----> 1\u001b[0m \u001b[38;5;28mprint\u001b[39m(\u001b[43mcities\u001b[49m\u001b[43m[\u001b[49m\u001b[38;5;124;43m'\u001b[39;49m\u001b[38;5;124;43mBerlin\u001b[39;49m\u001b[38;5;124;43m'\u001b[39;49m\u001b[43m]\u001b[49m)\n",
      "\u001b[0;31mKeyError\u001b[0m: 'Berlin'"
     ]
    }
   ],
   "source": [
    "print(cities['Berlin'])"
   ]
  },
  {
   "cell_type": "code",
   "execution_count": 27,
   "id": "987a931e-e2ca-4070-908d-ec757cc4db43",
   "metadata": {},
   "outputs": [
    {
     "name": "stdout",
     "output_type": "stream",
     "text": [
      "None\n"
     ]
    }
   ],
   "source": [
    "print(cities.get('Berlin'))"
   ]
  },
  {
   "cell_type": "markdown",
   "id": "c13ec404-b29a-4772-8fa0-e3001e91ada1",
   "metadata": {},
   "source": [
    "## Adapting the code below, print out the city name and airport code for every city in our Atlas."
   ]
  },
  {
   "cell_type": "code",
   "execution_count": 28,
   "id": "fffcc25c-6281-49ed-a152-4f7b0759ff70",
   "metadata": {},
   "outputs": [
    {
     "name": "stdout",
     "output_type": "stream",
     "text": [
      "San Francisco -> SFO\n",
      "London -> LDN\n",
      "Paris -> PAR\n",
      "Beijing -> BEI\n",
      "Chennai -> Che\n"
     ]
    }
   ],
   "source": [
    "for k, v in cities.items():\n",
    "    print(f\"{k} -> {v[2]}\")"
   ]
  },
  {
   "cell_type": "markdown",
   "id": "2bf2897a-d484-4484-9446-aa53e79d0401",
   "metadata": {},
   "source": [
    "## How would your code need to change to produce the same output from this data structure:"
   ]
  },
  {
   "cell_type": "code",
   "execution_count": 30,
   "id": "75d0197b-1f37-409e-9bda-e8469e585a43",
   "metadata": {},
   "outputs": [
    {
     "name": "stdout",
     "output_type": "stream",
     "text": [
      "San Francisco -> SFO\n",
      "London -> LDN\n",
      "Paris -> PAR\n",
      "Beijing -> BEI\n",
      "Chennai -> MAA\n"
     ]
    }
   ],
   "source": [
    "cities = {\n",
    "    'San Francisco': {\n",
    "        'lat': 37.77, \n",
    "        'lon': -122.43,\n",
    "        'airport': 'SFO'},\n",
    "    'London': {\n",
    "        'lat': 51.51, \n",
    "        'lon': -0.08, \n",
    "        'airport': 'LDN'},\n",
    "    'Paris': {\n",
    "        'lat': 48.86,\n",
    "        'lon': 2.29, \n",
    "        'airport': 'PAR'},\n",
    "    'Beijing': {\n",
    "        'lat': 39.92,\n",
    "        'lon': 116.40,\n",
    "        'airport': 'BEI'},\n",
    "    'Chennai': { \n",
    "        'lat': 13.08, \n",
    "        'lon': 80.28, \n",
    "        'airport': 'MAA'}\n",
    "}\n",
    "\n",
    "for k, v in cities.items():\n",
    "    print(f\"{k} -> {v['airport']}\")"
   ]
  },
  {
   "cell_type": "markdown",
   "id": "f2551335-d9b2-4d9b-8683-d60b0db4c3bd",
   "metadata": {},
   "source": [
    "## And how would it need to change to print out the name and latitude of every city?"
   ]
  },
  {
   "cell_type": "code",
   "execution_count": 31,
   "id": "aff5bd30-6e0a-40cd-bc37-8d19b66c2499",
   "metadata": {},
   "outputs": [
    {
     "name": "stdout",
     "output_type": "stream",
     "text": [
      "San Francisco is at latitude 37.77\n",
      "London is at latitude 51.51\n",
      "Paris is at latitude 48.86\n",
      "Beijing is at latitude 39.92\n",
      "Chennai is at latitude 13.08\n"
     ]
    }
   ],
   "source": [
    "for c in cities.keys():\n",
    "    print(f\"{c} is at latitude {cities[c]['lat']}\")"
   ]
  },
  {
   "cell_type": "markdown",
   "id": "2f5967e1-4ffa-433c-9ce9-912028415bdc",
   "metadata": {},
   "source": [
    "## Now produce the same output using this new data structure:"
   ]
  },
  {
   "cell_type": "code",
   "execution_count": 35,
   "id": "ce088aa7-feb8-4d4a-876b-462c030a0bf8",
   "metadata": {},
   "outputs": [
    {
     "name": "stdout",
     "output_type": "stream",
     "text": [
      "San Francisco -> SFO\n",
      "London -> LDN\n",
      "Paris -> PAR\n",
      "Beijing -> BEI\n",
      "Chennai -> MAA\n"
     ]
    }
   ],
   "source": [
    "cities_alt = [\n",
    "    {'name':     'San Francisco',\n",
    "     'position': [37.77, -122.43],\n",
    "     'airport':  'SFO'},\n",
    "    {'name':     'London',\n",
    "     'position': [51.51, -0.08],\n",
    "     'airport':  'LDN'},\n",
    "    {'name':     'Paris',\n",
    "     'position': [48.86, 2.29],\n",
    "     'airport':  'PAR'},\n",
    "    {'name':     'Beijing',\n",
    "     'position': [39.92, 116.40],\n",
    "     'airport':  'BEI'},\n",
    "    {'name':     'Chennai', \n",
    "     'position': [13.08, 80.28],\n",
    "      'airport': 'MAA'}\n",
    "]\n",
    "\n",
    "for c in cities_alt:\n",
    "    print(f\"{c['name']} -> {c['airport']}\")"
   ]
  },
  {
   "cell_type": "markdown",
   "id": "fe78856f-e9cf-46a1-9cf5-ef447bd35cdf",
   "metadata": {},
   "source": [
    "# Task 3.1. Reading a Remote File"
   ]
  },
  {
   "cell_type": "code",
   "execution_count": 36,
   "id": "3370c276-4af7-44aa-9f15-4e809159b916",
   "metadata": {},
   "outputs": [
    {
     "data": {
      "text/plain": [
       "\u001b[0;31mSignature:\u001b[0m\n",
       "\u001b[0murlopen\u001b[0m\u001b[0;34m(\u001b[0m\u001b[0;34m\u001b[0m\n",
       "\u001b[0;34m\u001b[0m    \u001b[0murl\u001b[0m\u001b[0;34m,\u001b[0m\u001b[0;34m\u001b[0m\n",
       "\u001b[0;34m\u001b[0m    \u001b[0mdata\u001b[0m\u001b[0;34m=\u001b[0m\u001b[0;32mNone\u001b[0m\u001b[0;34m,\u001b[0m\u001b[0;34m\u001b[0m\n",
       "\u001b[0;34m\u001b[0m    \u001b[0mtimeout\u001b[0m\u001b[0;34m=\u001b[0m\u001b[0;34m<\u001b[0m\u001b[0mobject\u001b[0m \u001b[0mobject\u001b[0m \u001b[0mat\u001b[0m \u001b[0;36m0x7f30883b8ae0\u001b[0m\u001b[0;34m>\u001b[0m\u001b[0;34m,\u001b[0m\u001b[0;34m\u001b[0m\n",
       "\u001b[0;34m\u001b[0m    \u001b[0;34m*\u001b[0m\u001b[0;34m,\u001b[0m\u001b[0;34m\u001b[0m\n",
       "\u001b[0;34m\u001b[0m    \u001b[0mcafile\u001b[0m\u001b[0;34m=\u001b[0m\u001b[0;32mNone\u001b[0m\u001b[0;34m,\u001b[0m\u001b[0;34m\u001b[0m\n",
       "\u001b[0;34m\u001b[0m    \u001b[0mcapath\u001b[0m\u001b[0;34m=\u001b[0m\u001b[0;32mNone\u001b[0m\u001b[0;34m,\u001b[0m\u001b[0;34m\u001b[0m\n",
       "\u001b[0;34m\u001b[0m    \u001b[0mcadefault\u001b[0m\u001b[0;34m=\u001b[0m\u001b[0;32mFalse\u001b[0m\u001b[0;34m,\u001b[0m\u001b[0;34m\u001b[0m\n",
       "\u001b[0;34m\u001b[0m    \u001b[0mcontext\u001b[0m\u001b[0;34m=\u001b[0m\u001b[0;32mNone\u001b[0m\u001b[0;34m,\u001b[0m\u001b[0;34m\u001b[0m\n",
       "\u001b[0;34m\u001b[0m\u001b[0;34m)\u001b[0m\u001b[0;34m\u001b[0m\u001b[0;34m\u001b[0m\u001b[0m\n",
       "\u001b[0;31mDocstring:\u001b[0m\n",
       "Open the URL url, which can be either a string or a Request object.\n",
       "\n",
       "*data* must be an object specifying additional data to be sent to\n",
       "the server, or None if no such data is needed.  See Request for\n",
       "details.\n",
       "\n",
       "urllib.request module uses HTTP/1.1 and includes a \"Connection:close\"\n",
       "header in its HTTP requests.\n",
       "\n",
       "The optional *timeout* parameter specifies a timeout in seconds for\n",
       "blocking operations like the connection attempt (if not specified, the\n",
       "global default timeout setting will be used). This only works for HTTP,\n",
       "HTTPS and FTP connections.\n",
       "\n",
       "If *context* is specified, it must be a ssl.SSLContext instance describing\n",
       "the various SSL options. See HTTPSConnection for more details.\n",
       "\n",
       "The optional *cafile* and *capath* parameters specify a set of trusted CA\n",
       "certificates for HTTPS requests. cafile should point to a single file\n",
       "containing a bundle of CA certificates, whereas capath should point to a\n",
       "directory of hashed certificate files. More information can be found in\n",
       "ssl.SSLContext.load_verify_locations().\n",
       "\n",
       "The *cadefault* parameter is ignored.\n",
       "\n",
       "\n",
       "This function always returns an object which can work as a\n",
       "context manager and has the properties url, headers, and status.\n",
       "See urllib.response.addinfourl for more detail on these properties.\n",
       "\n",
       "For HTTP and HTTPS URLs, this function returns a http.client.HTTPResponse\n",
       "object slightly modified. In addition to the three new methods above, the\n",
       "msg attribute contains the same information as the reason attribute ---\n",
       "the reason phrase returned by the server --- instead of the response\n",
       "headers as it is specified in the documentation for HTTPResponse.\n",
       "\n",
       "For FTP, file, and data URLs and requests explicitly handled by legacy\n",
       "URLopener and FancyURLopener classes, this function returns a\n",
       "urllib.response.addinfourl object.\n",
       "\n",
       "Note that None may be returned if no handler handles the request (though\n",
       "the default installed global OpenerDirector uses UnknownHandler to ensure\n",
       "this never happens).\n",
       "\n",
       "In addition, if proxy settings are detected (for example, when a *_proxy\n",
       "environment variable like http_proxy is set), ProxyHandler is default\n",
       "installed and makes sure the requests are handled through the proxy.\n",
       "\u001b[0;31mFile:\u001b[0m      /opt/conda/lib/python3.11/urllib/request.py\n",
       "\u001b[0;31mType:\u001b[0m      function"
      ]
     },
     "metadata": {},
     "output_type": "display_data"
    }
   ],
   "source": [
    "from urllib.request import urlopen\n",
    "?urlopen"
   ]
  },
  {
   "cell_type": "code",
   "execution_count": 37,
   "id": "23753b1c-d3be-42ea-aa94-0dd0e6811aec",
   "metadata": {},
   "outputs": [
    {
     "name": "stdout",
     "output_type": "stream",
     "text": [
      "'raw' variable is of type: 'bytes'.\n",
      "Raw content is:\n",
      "b'City,Population,Latitude,Longitude\\r\\nPerth,45770,56.39583,-3.43333\\r\\nArmagh,14777,54.3499,-6.6546\\r\\nDundee,147268,56.462,-2.9707\\r\\nColchester,194706,51.88861,0.90361\\r\\nSalisbury,40302,51.07,-1.79\\r\\nPortsmouth,205056,50.80583,-1.08722\\r\\nWakefield,325837,53.683,-1.499\\r\\nBradford,522452,53.792,-1.754\\r\\nLancaster,138375,54.047,-2.801\\r\\nBangor,18808,53.228,-4.128\\r\\n'\n",
      "\n",
      "'data' variable is of type: 'str'.\n",
      "Decoded content is:\n",
      "City,Population,Latitude,Longitude\n",
      "Perth,45770,56.39583,-3.43333\n",
      "Armagh,14777,54.3499,-6.6546\n",
      "Dundee,147268,56.462,-2.9707\n",
      "Colchester,194706,51.88861,0.90361\n",
      "Salisbury,40302,51.07,-1.79\n",
      "Portsmouth,205056,50.80583,-1.08722\n",
      "Wakefield,325837,53.683,-1.499\n",
      "Bradford,522452,53.792,-1.754\n",
      "Lancaster,138375,54.047,-2.801\n",
      "Bangor,18808,53.228,-4.128\n",
      "\n"
     ]
    }
   ],
   "source": [
    "from urllib.request import urlopen\n",
    "\n",
    "# Given the info you were given above, what do you \n",
    "# think the value of 'url' should be? What\n",
    "# type of variable is it? int or string? \n",
    "url = 'https://raw.githubusercontent.com/jreades/fsds/master/data/src/Wikipedia-Cities-simple.csv'\n",
    "\n",
    "# Read the URL stream into variable called 'response'\n",
    "# using the function that we imported above\n",
    "response = urlopen(url)\n",
    "\n",
    "# You might want to explore what `__class__` and `__name__`\n",
    "# are doing, but basically the give us a way of finding out what\n",
    "# is 'behind' more complex variables\n",
    "\n",
    "# Now read from the stream, decoding so that we get actual text\n",
    "raw = response.read()\n",
    "\n",
    "print(f\"'raw' variable is of type: '{raw.__class__.__name__}'.\")\n",
    "print(f\"Raw content is:\\n{raw}\\n\")\n",
    "\n",
    "data = raw.decode('utf-8')\n",
    "\n",
    "print(f\"'data' variable is of type: '{data.__class__.__name__}'.\")\n",
    "print(f\"Decoded content is:\\n{data}\")"
   ]
  },
  {
   "cell_type": "code",
   "execution_count": 38,
   "id": "fdeadfe5-4965-4e77-8870-5be5bdfa4927",
   "metadata": {},
   "outputs": [
    {
     "name": "stdout",
     "output_type": "stream",
     "text": [
      "There are 352 characters in the data variable.\n",
      "The first 125 characters are: 'City,Population,Latitude,Longitude\n",
      "Perth,45770,56.39583,-3.43333\n",
      "Armagh,14777,54.3499,-6.6546\n",
      "Dundee,147268,56.462,-2.9707'\n"
     ]
    }
   ],
   "source": [
    "print(f\"There are {len(data)} characters in the data variable.\")\n",
    "print(f\"The first 125 characters are: '{data[:125]}'\") # Notice that '\\n' count here!"
   ]
  },
  {
   "cell_type": "code",
   "execution_count": 39,
   "id": "cc8e6645-0544-4c7f-bb57-0fba28df0125",
   "metadata": {},
   "outputs": [
    {
     "name": "stdout",
     "output_type": "stream",
     "text": [
      "'rows' variable is of type: list'.\n"
     ]
    }
   ],
   "source": [
    "rows = data.splitlines()\n",
    "\n",
    "print(f\"'rows' variable is of type: {rows.__class__.__name__}'.\")"
   ]
  },
  {
   "cell_type": "code",
   "execution_count": 42,
   "id": "98bb14ce-f22e-4fa6-86bc-d9044ff7b689",
   "metadata": {},
   "outputs": [
    {
     "name": "stdout",
     "output_type": "stream",
     "text": [
      "There are 352 rows of data.\n",
      "City,Population,Latitude,Longitude\n",
      "Perth,45770,56.39583,-3.43333\n"
     ]
    }
   ],
   "source": [
    "print(f\"There are {len(data)} rows of data.\")\n",
    "print(\"\\n\".join(data.splitlines()[0:2])) # New syntax alert! notice we can *join* list elements"
   ]
  },
  {
   "cell_type": "code",
   "execution_count": 43,
   "id": "c1944dca-61c1-4941-919d-e6e00dacf072",
   "metadata": {},
   "outputs": [
    {
     "name": "stdout",
     "output_type": "stream",
     "text": [
      "Bangor,18808,53.228,-4.128\n"
     ]
    }
   ],
   "source": [
    "print(data.splitlines()[-1])"
   ]
  },
  {
   "cell_type": "markdown",
   "id": "7a379ce8-8748-4ad5-95c7-b1d09066e681",
   "metadata": {},
   "source": [
    "# Task 3.2. Text into Data"
   ]
  },
  {
   "cell_type": "code",
   "execution_count": 44,
   "id": "ab14c942-d7e4-4a9e-b8ba-3891490c29bd",
   "metadata": {},
   "outputs": [
    {
     "name": "stdout",
     "output_type": "stream",
     "text": [
      "['abc', 'efgh']\n"
     ]
    }
   ],
   "source": [
    "print('abcdefgh'.split('d'))"
   ]
  },
  {
   "cell_type": "code",
   "execution_count": 45,
   "id": "742cca04-e0df-4a51-84d6-80076c16ccc7",
   "metadata": {},
   "outputs": [
    {
     "name": "stdout",
     "output_type": "stream",
     "text": [
      "Help on built-in function split:\n",
      "\n",
      "split(sep=None, maxsplit=-1) method of builtins.str instance\n",
      "    Return a list of the substrings in the string, using sep as the separator string.\n",
      "    \n",
      "      sep\n",
      "        The separator used to split the string.\n",
      "    \n",
      "        When set to None (the default value), will split on any whitespace\n",
      "        character (including \\\\n \\\\r \\\\t \\\\f and spaces) and will discard\n",
      "        empty strings from the result.\n",
      "      maxsplit\n",
      "        Maximum number of splits (starting from the left).\n",
      "        -1 (the default value) means no limit.\n",
      "    \n",
      "    Note, str.split() is mainly useful for data that has been intentionally\n",
      "    delimited.  With natural text that includes punctuation, consider using\n",
      "    the regular expression module.\n",
      "\n"
     ]
    }
   ],
   "source": [
    "help('abcdefgh'.split)"
   ]
  },
  {
   "cell_type": "code",
   "execution_count": 46,
   "id": "9a23607a-570a-4abb-81dd-6616c023a045",
   "metadata": {},
   "outputs": [
    {
     "name": "stdout",
     "output_type": "stream",
     "text": [
      "['Bangor', '18808', '53.228', '-4.128']\n",
      "The population of Bangor is 18,808\n"
     ]
    }
   ],
   "source": [
    "test = rows[-1].split(',')\n",
    "print(test)\n",
    "print(f\"The population of {test[0]} is {int(test[1]):,}\")"
   ]
  },
  {
   "cell_type": "markdown",
   "id": "017c7fae-248c-41a7-8da4-4d9c16a44890",
   "metadata": {},
   "source": [
    "# Task 3.3. The Advantages of a Package"
   ]
  },
  {
   "cell_type": "code",
   "execution_count": 47,
   "id": "ad8925e1-44fd-4a01-9e18-b112d42539d9",
   "metadata": {},
   "outputs": [
    {
     "name": "stdout",
     "output_type": "stream",
     "text": [
      "urlData has 11 rows and 4 columns.\n",
      "['Bangor', '18808', '53.228', '-4.128']\n"
     ]
    }
   ],
   "source": [
    "from urllib.request import urlopen\n",
    "import csv\n",
    "\n",
    "url = 'https://raw.githubusercontent.com/jreades/fsds/master/data/src/Wikipedia-Cities-simple.csv'\n",
    "response = urlopen(url)\n",
    "raw = response.read()\n",
    "\n",
    "# Now take the raw data, decode it, and then\n",
    "# pass it over to the CSV reader function\n",
    "csvfile  = csv.reader(raw.decode('utf-8').splitlines()) \n",
    "\n",
    "urlData = [] # Somewhere to store the data\n",
    "for row in csvfile:              \n",
    "    urlData.append( row )\n",
    "\n",
    "print(\"urlData has \" + str(len(urlData)) + \" rows and \" + str(len(urlData[0])) + \" columns.\")\n",
    "print(urlData[-1]) # Check it worked!"
   ]
  },
  {
   "cell_type": "code",
   "execution_count": 48,
   "id": "b6b898f8-1b66-4556-b8e5-48e85889c355",
   "metadata": {},
   "outputs": [
    {
     "name": "stdout",
     "output_type": "stream",
     "text": [
      "The city of 'Perth' has a population of 45,770\n",
      "The city of 'Armagh' has a population of 14,777\n",
      "The city of 'Dundee' has a population of 147,268\n",
      "The city of 'Colchester' has a population of 194,706\n",
      "The city of 'Salisbury' has a population of 40,302\n",
      "The city of 'Portsmouth' has a population of 205,056\n",
      "The city of 'Wakefield' has a population of 325,837\n",
      "The city of 'Bradford' has a population of 522,452\n",
      "The city of 'Lancaster' has a population of 138,375\n",
      "The city of 'Bangor' has a population of 18,808\n"
     ]
    }
   ],
   "source": [
    "for u in urlData[1:]:                             # For each row in the first 15 items in list\n",
    "    print(f\"The city of '{u[0]}' has a population of {int(u[1]):,}\") # Print out the name and pop"
   ]
  },
  {
   "cell_type": "code",
   "execution_count": 55,
   "id": "bbcc83a3-d640-4524-ad36-59180bcea12b",
   "metadata": {},
   "outputs": [
    {
     "name": "stdout",
     "output_type": "stream",
     "text": [
      "urlData has 75 rows and 7 columns.\n",
      "The city of 'Stoke-on-Trent' has a population of 249008\n",
      "The city of 'Sunderland' has a population of 275506\n",
      "The city of 'Swansea' has a population of 239023\n",
      "The city of 'Truro' has a population of 18766\n",
      "The city of 'Wakefield' has a population of 325837\n",
      "The city of 'Wells' has a population of 10536\n",
      "The city of 'Westminster' has a population of 219396\n",
      "The city of 'Winchester' has a population of 116595\n",
      "The city of 'Wolverhampton' has a population of 249470\n",
      "The city of 'Worcester' has a population of 98768\n",
      "The city of 'Wrexham, Wrecsam' has a population of 134844\n",
      "The city of 'York' has a population of 198051\n"
     ]
    }
   ],
   "source": [
    "from urllib.request import urlopen\n",
    "import csv\n",
    "\n",
    "url = \"https://raw.githubusercontent.com/jreades/fsds/master/data/src/Wikipedia-Cities.csv\"\n",
    "response = urlopen(url)\n",
    "raw = response.read()\n",
    "\n",
    "csvfile = csv.reader(raw.decode('utf-8').splitlines())\n",
    "\n",
    "urlData = [] # Somewhere to store the data\n",
    "\n",
    "for row in csvfile:              \n",
    "    urlData.append( row )\n",
    "\n",
    "print(f\"urlData has {len(urlData)} rows and {len(urlData[0])} columns.\")\n",
    "\n",
    "for u in urlData[63:]:                             # For each row in the list\n",
    "    print(f\"The city of '{u[0]}' has a population of {u[3]}\") # Print out the name and pop"
   ]
  },
  {
   "cell_type": "code",
   "execution_count": 54,
   "id": "0c20180c-e7f2-4c0e-9581-22e6447490b9",
   "metadata": {},
   "outputs": [
    {
     "name": "stdout",
     "output_type": "stream",
     "text": [
      "The URL's data labels are: City, Region, Founded, Population, URL, Longitude, Latitude\n"
     ]
    }
   ],
   "source": [
    "print(f\"The URL's data labels are: {', '.join(urlData[0])}\")"
   ]
  },
  {
   "cell_type": "markdown",
   "id": "63c6aeeb-5e79-4ee0-96e6-3e1bd406ff36",
   "metadata": {},
   "source": [
    "change u[1] -> u[3]"
   ]
  },
  {
   "cell_type": "markdown",
   "id": "ac2c137f-3b1a-4f32-8637-71581335084b",
   "metadata": {},
   "source": [
    "# Task 4.1. Understanding What's an 'Appropriate' Data Structure"
   ]
  },
  {
   "cell_type": "code",
   "execution_count": 56,
   "id": "a1ac0247-387c-46c4-aba2-df2536c2de20",
   "metadata": {},
   "outputs": [
    {
     "name": "stdout",
     "output_type": "stream",
     "text": [
      "['London', 'Manchester', 'Birmingham', 'Edinburgh', 'Inverness', 'Lerwick']\n",
      "[9787426, 2705000, 1141816, 901455, 70000, 6958]\n"
     ]
    }
   ],
   "source": [
    "myData = {\n",
    "    'id'         : [0, 1, 2, 3, 4, 5],\n",
    "    'Name'       : ['London', 'Manchester', 'Birmingham','Edinburgh','Inverness','Lerwick'],\n",
    "    'Rank'       : [1, 2, 3, 4, 5, 6],\n",
    "    'Longitude'  : [-0.128, -2.245, -1.903, -3.189, -4.223, -1.145],\n",
    "    'Latitude'   : [51.507, 53.479, 52.480, 55.953, 57.478, 60.155],\n",
    "    'Population' : [9787426, 2705000, 1141816, 901455, 70000, 6958],\n",
    "}\n",
    "\n",
    "print(myData['Name'])\n",
    "print(myData['Population'])"
   ]
  },
  {
   "cell_type": "code",
   "execution_count": 58,
   "id": "9e0a93ba-9c0d-4554-bc74-71f20d9f8807",
   "metadata": {},
   "outputs": [
    {
     "name": "stdout",
     "output_type": "stream",
     "text": [
      "Manchester's latitude is 53.479\n",
      "The easternmost city is: London\n",
      "The town of Lerwick can be found at 1.145ºW, 60.155ºN\n",
      "The mean population is: 2435442.5\n"
     ]
    }
   ],
   "source": [
    "import numpy as np\n",
    "\n",
    "# Find the latitude of Manchester.\n",
    "lat = myData['Latitude'][ myData['Name'].index('Manchester') ]\n",
    "print(f\"Manchester's latitude is {lat}\") # Notice how 'f-strings' work!\n",
    "\n",
    "# Find the easternmost city\n",
    "city = myData['Name'][ myData['Longitude'].index( np.max(myData['Longitude']) ) ]\n",
    "print(f\"The easternmost city is: {city}\")\n",
    "\n",
    "# Print the location of Lerwick\n",
    "city = \"Lerwick\"\n",
    "print(f\"The town of {city} can be found at \" + \n",
    "      f\"{abs(myData['Longitude'][myData['Name'].index(city)])}ºW, {myData['Latitude'][myData['Name'].index(city)]}ºN\")\n",
    "\n",
    "# Find the mean population of the cities\n",
    "# using a handy package called numpy\n",
    "mean = np.mean(myData['Population'])\n",
    "print(f\"The mean population is: {mean}\")"
   ]
  },
  {
   "cell_type": "code",
   "execution_count": 59,
   "id": "0af81318-1982-4dff-9d9a-36ae14b1626f",
   "metadata": {},
   "outputs": [
    {
     "data": {
      "text/plain": [
       "\u001b[0;31mSignature:\u001b[0m \u001b[0mabs\u001b[0m\u001b[0;34m(\u001b[0m\u001b[0mx\u001b[0m\u001b[0;34m,\u001b[0m \u001b[0;34m/\u001b[0m\u001b[0;34m)\u001b[0m\u001b[0;34m\u001b[0m\u001b[0;34m\u001b[0m\u001b[0m\n",
       "\u001b[0;31mDocstring:\u001b[0m Return the absolute value of the argument.\n",
       "\u001b[0;31mType:\u001b[0m      builtin_function_or_method"
      ]
     },
     "metadata": {},
     "output_type": "display_data"
    }
   ],
   "source": [
    "?abs"
   ]
  },
  {
   "cell_type": "markdown",
   "id": "6a14185b-6b32-47a7-a6b2-44bad32feac4",
   "metadata": {},
   "source": [
    "# Task 4.2 Brain Teaser"
   ]
  },
  {
   "cell_type": "code",
   "execution_count": 76,
   "id": "bf03f328-b3de-41bb-9638-16306a7b00a0",
   "metadata": {},
   "outputs": [
    {
     "name": "stdout",
     "output_type": "stream",
     "text": [
      "The fourth most populous city is: Edinburgh\n"
     ]
    }
   ],
   "source": [
    "myData = {\n",
    "    'id'         : [0, 1, 2, 3, 4, 5],\n",
    "    'Name'       : ['London', 'Manchester', 'Birmingham','Edinburgh','Inverness','Lerwick'],\n",
    "    'Rank'       : [1, 2, 3, 4, 5, 6],\n",
    "    'Longitude'  : [-0.128, -2.245, -1.903, -3.189, -4.223, -1.145],\n",
    "    'Latitude'   : [51.507, 53.479, 52.480, 55.953, 57.478, 60.155],\n",
    "    'Population' : [9787426, 2705000, 1141816, 901455, 70000, 6958],\n",
    "}\n",
    "\n",
    "city = sorted(zip(myData['Name'], myData['Population']), key=lambda x: x[1], reverse=True)[3][0]\n",
    "\n",
    "print(\"The fourth most populous city is: \" + str(city))\n"
   ]
  },
  {
   "cell_type": "code",
   "execution_count": null,
   "id": "ebba12d9-4762-4f28-9bae-09e71720c9bb",
   "metadata": {},
   "outputs": [],
   "source": []
  }
 ],
 "metadata": {
  "kernelspec": {
   "display_name": "Python 3 (ipykernel)",
   "language": "python",
   "name": "python3"
  },
  "language_info": {
   "codemirror_mode": {
    "name": "ipython",
    "version": 3
   },
   "file_extension": ".py",
   "mimetype": "text/x-python",
   "name": "python",
   "nbconvert_exporter": "python",
   "pygments_lexer": "ipython3",
   "version": "3.11.5"
  }
 },
 "nbformat": 4,
 "nbformat_minor": 5
}
