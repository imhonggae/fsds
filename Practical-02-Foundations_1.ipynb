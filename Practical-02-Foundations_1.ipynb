{
 "cells": [
  {
   "cell_type": "code",
   "execution_count": 1,
   "id": "83e156b8-b163-4568-bc11-a5fa1bb4cd7c",
   "metadata": {},
   "outputs": [
    {
     "name": "stdout",
     "output_type": "stream",
     "text": [
      "Hello World!\n"
     ]
    }
   ],
   "source": [
    "print('Hello World!')"
   ]
  },
  {
   "cell_type": "code",
   "execution_count": 2,
   "id": "3fdaa50b-a070-4996-994b-30f4f56d06fc",
   "metadata": {},
   "outputs": [],
   "source": [
    "Pi = 3.14159      # Valid Python"
   ]
  },
  {
   "cell_type": "code",
   "execution_count": 3,
   "id": "85e7c65d-3eb0-4401-922d-f747b0dce19d",
   "metadata": {},
   "outputs": [],
   "source": [
    "pi = 3.14159      # Valid Python"
   ]
  },
  {
   "cell_type": "code",
   "execution_count": 4,
   "id": "4219b7cf-4196-47cd-bbe3-3eba9f3f6fae",
   "metadata": {},
   "outputs": [],
   "source": [
    "pi3 = 3.14159*3   # Valid Python"
   ]
  },
  {
   "cell_type": "code",
   "execution_count": 5,
   "id": "280c5c8d-75d6-4829-8ebd-ef151947f68c",
   "metadata": {},
   "outputs": [],
   "source": [
    "pi_2 = 3.14159**2 # Valid Python"
   ]
  },
  {
   "cell_type": "code",
   "execution_count": 6,
   "id": "ac26d32c-ac22-4b01-83f5-9520bacbf04c",
   "metadata": {},
   "outputs": [],
   "source": [
    "pi2 = 3.14159**2  # Valid Python"
   ]
  },
  {
   "cell_type": "code",
   "execution_count": 7,
   "id": "f908e2f9-0ab3-47b4-a147-29ee016522ef",
   "metadata": {},
   "outputs": [],
   "source": [
    "my_Radius = 5     # Valid Python"
   ]
  },
  {
   "cell_type": "code",
   "execution_count": 8,
   "id": "19fa8ee2-9e22-4ebf-b9bc-d9683afe22d0",
   "metadata": {},
   "outputs": [],
   "source": [
    "My_Radius = 5     # Valid Python"
   ]
  },
  {
   "cell_type": "code",
   "execution_count": 9,
   "id": "2cbb0bf1-9140-4e8d-b3fc-0325a90af96d",
   "metadata": {},
   "outputs": [],
   "source": [
    "Class = 5         # Valid Python"
   ]
  },
  {
   "cell_type": "code",
   "execution_count": 11,
   "id": "71a1cd8b-7462-4100-8350-79531dd713bd",
   "metadata": {},
   "outputs": [
    {
     "name": "stdout",
     "output_type": "stream",
     "text": [
      "4\n",
      "22\n",
      "22\n",
      "16\n",
      "0.5\n",
      "<class 'str'>\n",
      "<class 'int'>\n",
      "<class 'int'>\n",
      "<class 'float'>\n"
     ]
    }
   ],
   "source": [
    "x = '2'\n",
    "y = z = 2\n",
    "\n",
    "print(y * z)    # 4\n",
    "print(x * y)    # 22\n",
    "print(x + x)    # 22\n",
    "print((y+z)**z) # 16\n",
    "print(y/(y+z))  # 0.5\n",
    "\n",
    "print( type(x * y) )    # <class 'str'>\n",
    "print( type(y * z) )    # <class 'int'>\n",
    "print( type((y+z)**z) ) # <class 'int'>\n",
    "print( type(y/(y+z)) )  # <class 'float'>"
   ]
  },
  {
   "cell_type": "code",
   "execution_count": 12,
   "id": "f6215e44-6322-499a-b898-3f1b97a221ec",
   "metadata": {},
   "outputs": [
    {
     "name": "stdout",
     "output_type": "stream",
     "text": [
      "22\n",
      "32\n",
      "22\n"
     ]
    }
   ],
   "source": [
    "x = 12\n",
    "y = 10\n",
    "\n",
    "z = x + y # 22\n",
    "x = x + y # 22\n",
    "y = z + y # 32\n",
    "\n",
    "print(x)\n",
    "print(y)\n",
    "print(z)"
   ]
  },
  {
   "cell_type": "code",
   "execution_count": 14,
   "id": "d1d932ab-c665-4908-959f-c240612fa216",
   "metadata": {},
   "outputs": [
    {
     "name": "stdout",
     "output_type": "stream",
     "text": [
      "2.5\n",
      "2.25\n",
      "2.5\n"
     ]
    }
   ],
   "source": [
    "x = 1 + (2 * 3) / 4\n",
    "y = (1 + 2) * (3 / 4)\n",
    "z = 1 + 2 * (3 / 4)\n",
    "\n",
    "print(x) # x is 2.5\n",
    "print(y) # y is 2.25\n",
    "print(z) # z is 2.5"
   ]
  },
  {
   "cell_type": "code",
   "execution_count": 17,
   "id": "54dc2d9c-38c4-40e0-a895-66d56763f03d",
   "metadata": {},
   "outputs": [
    {
     "name": "stdout",
     "output_type": "stream",
     "text": [
      "1\n",
      "13\n",
      "False\n",
      "1000\n",
      "7\n",
      "3\n"
     ]
    }
   ],
   "source": [
    "x = 10\n",
    "y = 3\n",
    "\n",
    "print( x % y ) # 1\n",
    "print( x + y ) # 13\n",
    "print( x == y ) # False\n",
    "print( x ** y ) # 1000\n",
    "print( x - y ) # 7\n",
    "print( x // y ) # 3"
   ]
  },
  {
   "cell_type": "code",
   "execution_count": 21,
   "id": "58202f4d-58b9-4d32-8568-547c599c48e5",
   "metadata": {},
   "outputs": [
    {
     "name": "stdout",
     "output_type": "stream",
     "text": [
      "904.7779199999999\n"
     ]
    }
   ],
   "source": [
    "pi = 3.14159\n",
    "r = 6\n",
    "v = (4/3) * pi * r ** 3\n",
    "print(v) # 904.7779199999999"
   ]
  },
  {
   "cell_type": "code",
   "execution_count": 23,
   "id": "2fd39d0d-1cad-410c-aa6d-e687bc411ea4",
   "metadata": {},
   "outputs": [
    {
     "name": "stdout",
     "output_type": "stream",
     "text": [
      "1.499994517971739\n"
     ]
    }
   ],
   "source": [
    "v = 14.137\n",
    "pi = 3.14159\n",
    "r = ((3 / 4) * (v / pi)) ** (1 / 3)\n",
    "print(r) # 1.499994517971739"
   ]
  },
  {
   "cell_type": "code",
   "execution_count": 24,
   "id": "c012703f-2ba1-4948-86de-c2cfbab36900",
   "metadata": {},
   "outputs": [
    {
     "name": "stdout",
     "output_type": "stream",
     "text": [
      "Less than 10 hours worked!\n"
     ]
    }
   ],
   "source": [
    "hours=0\n",
    "\n",
    "if hours >= 10:\n",
    "    print(\"At least 10 hours worked!\")\n",
    "elif hours == 2:\n",
    "    print(\"Exactly 2 hours worked\")\n",
    "else:\n",
    "    print(\"Less than 10 hours worked!\")"
   ]
  },
  {
   "cell_type": "code",
   "execution_count": 25,
   "id": "32a8e699-182e-404c-9f97-c0d2d9549e91",
   "metadata": {},
   "outputs": [
    {
     "name": "stdout",
     "output_type": "stream",
     "text": [
      "inside 1\n",
      "inside 2\n",
      "inside\n",
      "after condition\n"
     ]
    }
   ],
   "source": [
    "a = 1\n",
    "b = 1\n",
    "if (a == b):\n",
    "    print(\"inside 1\")\n",
    "    print(\"inside 2\")\n",
    "    print(\"inside\")\n",
    "    print(\"after condition\")\n",
    "else:\n",
    "    print(\"after condition\")"
   ]
  },
  {
   "cell_type": "code",
   "execution_count": 33,
   "id": "9f35e815-2cca-4394-b5ed-bc3bf89a1a04",
   "metadata": {},
   "outputs": [
    {
     "name": "stdout",
     "output_type": "stream",
     "text": [
      "Aled\n",
      "Sarah\n"
     ]
    }
   ],
   "source": [
    "x = 0\n",
    "\n",
    "if x > 0 and x < 5:\n",
    "    print(\"Joe\")\n",
    "\n",
    "if x > 0 or x < 5:\n",
    "    print(\"Aled\")\n",
    "\n",
    "if not(x > 0):\n",
    "    print(\"Sarah\")\n",
    "\n",
    "# 1.Aled\n",
    "# 2.0<x<5\n",
    "# 3.Aled\n",
    "#   Sarah\n",
    "# 4.no value can print all three name"
   ]
  },
  {
   "cell_type": "code",
   "execution_count": 34,
   "id": "729fca97-617d-4a1f-b0af-731b6850c624",
   "metadata": {},
   "outputs": [
    {
     "name": "stdout",
     "output_type": "stream",
     "text": [
      "x is even\n",
      "0\n",
      "x is odd\n",
      "1\n",
      "x is even\n",
      "2\n",
      "x is odd\n",
      "3\n",
      "x is even\n",
      "4\n",
      "x is odd\n",
      "5\n",
      "x is even\n",
      "6\n",
      "x is odd\n",
      "7\n",
      "x is even\n",
      "8\n"
     ]
    }
   ],
   "source": [
    "for x in range(0,9):\n",
    "    if(x % 2 == 0):\n",
    "        print(\"x is even\")\n",
    "    else:\n",
    "        print(\"x is odd\")\n",
    "    print(x)"
   ]
  },
  {
   "cell_type": "code",
   "execution_count": 36,
   "id": "3cad2c13-fa3a-41a0-b66d-f5e4c318acea",
   "metadata": {},
   "outputs": [
    {
     "name": "stdout",
     "output_type": "stream",
     "text": [
      "x is not equal to y\n",
      "x is less than y\n"
     ]
    }
   ],
   "source": [
    "x = 2\n",
    "y = 3\n",
    "\n",
    "if x != y:                                 #line 1\n",
    "    print(\"x is not equal to y\")\n",
    "    \n",
    "    if(x > y):                             #line 4\n",
    "        print(\"x is greater than y\")\n",
    "    \n",
    "    else:                                  #line 7\n",
    "        print(\"x is less than y\")\n",
    "\n",
    "else:\n",
    "    print(\"x is equal to y\")"
   ]
  },
  {
   "cell_type": "code",
   "execution_count": 37,
   "id": "72ce8a08-9eb3-41c7-a21a-5e4b5db2f202",
   "metadata": {},
   "outputs": [
    {
     "name": "stdout",
     "output_type": "stream",
     "text": [
      "London\n",
      "Tokyo\n",
      "Beijing and Tokyo\n",
      "['London', 'Beijing', 'Tokyo']\n",
      "['London', 'Beijing']\n",
      "0\n"
     ]
    }
   ],
   "source": [
    "cities = ['New York', 'London', 'Beijing', 'Tokyo', 'Delhi']\n",
    "\n",
    "# Print out London from cities:\n",
    "print( cities[1] )\n",
    "\n",
    "# Print out Tokyo using *negative* indexing:\n",
    "print( cities[3] )\n",
    "\n",
    "# Print out Beijing *and* Tokyo using a list slice\n",
    "print( cities[2],\"and\",cities[3] )\n",
    "\n",
    "# Print out London to Delhi using a slice\n",
    "print( cities[1:4] ) # You could also do cities[1:5] but this way is neater\n",
    "\n",
    "# Combine positive and negative indexing to print out London, Beijing and Tokyo using a list slice\n",
    "print( cities[1:3] )\n",
    "\n",
    "# Print out the position of New York in the list by searching for it (i.e. you can't just type 0)\n",
    "print( cities.index('New York') )"
   ]
  },
  {
   "cell_type": "code",
   "execution_count": 40,
   "id": "af5c207b-6693-430b-90bb-c6c1504d973a",
   "metadata": {},
   "outputs": [
    {
     "name": "stdout",
     "output_type": "stream",
     "text": [
      "['Tokyo', 'New York', 'London', 'Delhi', 'Beijing']\n"
     ]
    }
   ],
   "source": [
    "cities = ['New York', 'London', 'Beijing', 'Tokyo', 'Delhi']\n",
    "print(sorted(cities, reverse=True))"
   ]
  },
  {
   "cell_type": "code",
   "execution_count": 42,
   "id": "bcd1ddff-a68c-4cc1-aa22-d7913aeea3b0",
   "metadata": {},
   "outputs": [
    {
     "name": "stdout",
     "output_type": "stream",
     "text": [
      "New York\n",
      "['London', 'Beijing', 'Tokyo', 'Delhi']\n"
     ]
    }
   ],
   "source": [
    "cities = ['New York', 'London', 'Beijing', 'Tokyo', 'Delhi']\n",
    "p = cities[0]\n",
    "cities.remove(p)\n",
    "print(p)\n",
    "print(cities)"
   ]
  },
  {
   "cell_type": "code",
   "execution_count": 44,
   "id": "87efddb0-63bd-4e45-a611-0fa068b28126",
   "metadata": {},
   "outputs": [
    {
     "name": "stdout",
     "output_type": "stream",
     "text": [
      "Moscow is not exist\n"
     ]
    }
   ],
   "source": [
    "cities = ['New York', 'London', 'Beijing', 'Tokyo', 'Delhi']\n",
    "check = 'Moscow'\n",
    "if check in cities:\n",
    "    print(f\"{check} is exist\")\n",
    "else:\n",
    "    print(f\"{check} is not exist\")"
   ]
  },
  {
   "cell_type": "code",
   "execution_count": null,
   "id": "820f09ff-7f27-4ea5-a1a2-72e4060c1967",
   "metadata": {},
   "outputs": [],
   "source": []
  }
 ],
 "metadata": {
  "kernelspec": {
   "display_name": "Python 3 (ipykernel)",
   "language": "python",
   "name": "python3"
  },
  "language_info": {
   "codemirror_mode": {
    "name": "ipython",
    "version": 3
   },
   "file_extension": ".py",
   "mimetype": "text/x-python",
   "name": "python",
   "nbconvert_exporter": "python",
   "pygments_lexer": "ipython3",
   "version": "3.11.5"
  }
 },
 "nbformat": 4,
 "nbformat_minor": 5
}
